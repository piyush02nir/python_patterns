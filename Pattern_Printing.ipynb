{
  "nbformat": 4,
  "nbformat_minor": 0,
  "metadata": {
    "colab": {
      "provenance": [],
      "authorship_tag": "ABX9TyOaApMQTAZKA3mv1TnuzUq9",
      "include_colab_link": true
    },
    "kernelspec": {
      "name": "python3",
      "display_name": "Python 3"
    },
    "language_info": {
      "name": "python"
    }
  },
  "cells": [
    {
      "cell_type": "markdown",
      "metadata": {
        "id": "view-in-github",
        "colab_type": "text"
      },
      "source": [
        "<a href=\"https://colab.research.google.com/github/piyush02nir/python_patterns/blob/main/Pattern_Printing.ipynb\" target=\"_parent\"><img src=\"https://colab.research.google.com/assets/colab-badge.svg\" alt=\"Open In Colab\"/></a>"
      ]
    },
    {
      "cell_type": "code",
      "execution_count": null,
      "metadata": {
        "colab": {
          "base_uri": "https://localhost:8080/"
        },
        "id": "Ar_GvHT6UzvE",
        "outputId": "8da921a1-6789-4ee2-c389-fb89dff9dedf"
      },
      "outputs": [
        {
          "output_type": "stream",
          "name": "stdout",
          "text": [
            "* * * * * \n",
            "* * * * * \n",
            "* * * * * \n",
            "* * * * * \n",
            "* * * * * \n"
          ]
        }
      ],
      "source": [
        "# Pattern 1\n",
        "row = 5\n",
        "for i in range(0,row):\n",
        "  for j in range(0,row):\n",
        "    print('*', end = \" \")\n",
        "  print()"
      ]
    },
    {
      "cell_type": "code",
      "source": [
        "# Pattern 2\n",
        "row = 5\n",
        "for i in range(0,row):\n",
        "  for j in range(0,i+1):\n",
        "    print(\"*\", end = \" \")\n",
        "  print()"
      ],
      "metadata": {
        "colab": {
          "base_uri": "https://localhost:8080/"
        },
        "id": "huTFCOVHRb6Y",
        "outputId": "38b5b8c5-7fbd-4559-eeb4-057c4633f12f"
      },
      "execution_count": null,
      "outputs": [
        {
          "output_type": "stream",
          "name": "stdout",
          "text": [
            "* \n",
            "* * \n",
            "* * * \n",
            "* * * * \n",
            "* * * * * \n"
          ]
        }
      ]
    },
    {
      "cell_type": "code",
      "source": [
        "# Pattern 3\n",
        "row = 5 \n",
        "for i in range(0,row):\n",
        "  for j in range(0,row -i):\n",
        "    print(\"*\", end = \" \")\n",
        "  print()"
      ],
      "metadata": {
        "colab": {
          "base_uri": "https://localhost:8080/"
        },
        "id": "AQQZ6kGHR0uo",
        "outputId": "b06242d8-c17f-4299-978f-bd8c21851a4d"
      },
      "execution_count": null,
      "outputs": [
        {
          "output_type": "stream",
          "name": "stdout",
          "text": [
            "* * * * * \n",
            "* * * * \n",
            "* * * \n",
            "* * \n",
            "* \n"
          ]
        }
      ]
    },
    {
      "cell_type": "code",
      "source": [
        "# Pattern 4\n",
        "row = 5\n",
        "for i in range(1,row+ 1):\n",
        "  for j in range(1,row+ 1):\n",
        "    if j <= i:\n",
        "      print(j, end= ' ')\n",
        "  print()"
      ],
      "metadata": {
        "colab": {
          "base_uri": "https://localhost:8080/"
        },
        "id": "4RheAUcszBut",
        "outputId": "fde46e2b-756d-4c1d-d1a0-44d4d8b0a0f8"
      },
      "execution_count": null,
      "outputs": [
        {
          "output_type": "stream",
          "name": "stdout",
          "text": [
            "1 \n",
            "1 2 \n",
            "1 2 3 \n",
            "1 2 3 4 \n",
            "1 2 3 4 5 \n"
          ]
        }
      ]
    },
    {
      "cell_type": "code",
      "source": [
        "# Pattern 5\n",
        "row = 5\n",
        "n = row * 2\n",
        "for i in range(0,n):\n",
        "  if i <= row:\n",
        "    for j in range(0,i):\n",
        "      print(\"*\",end = \" \")\n",
        "  else:\n",
        "    for j in range(0,n - i):\n",
        "      print(\"*\",end = \" \")\n",
        "  print()"
      ],
      "metadata": {
        "colab": {
          "base_uri": "https://localhost:8080/"
        },
        "id": "638gYkrwzkBF",
        "outputId": "e2fc0d42-4085-47c1-fa12-252c6d9ad1b4"
      },
      "execution_count": null,
      "outputs": [
        {
          "output_type": "stream",
          "name": "stdout",
          "text": [
            "\n",
            "* \n",
            "* * \n",
            "* * * \n",
            "* * * * \n",
            "* * * * * \n",
            "* * * * \n",
            "* * * \n",
            "* * \n",
            "* \n"
          ]
        }
      ]
    },
    {
      "cell_type": "code",
      "source": [
        "# Pattern 6\n",
        "row = 5\n",
        "\n",
        "for i in range(1,row+1):\n",
        "  No_spaces = row - i\n",
        "  print(\" \"*No_spaces,end=\"\")\n",
        "  for j in range(0,i):\n",
        "    print(\"*\",end = \"\")\n",
        "  print()"
      ],
      "metadata": {
        "id": "2AXXRnid06rX",
        "colab": {
          "base_uri": "https://localhost:8080/"
        },
        "outputId": "124d0939-d75b-4001-be80-487e5324ed5e"
      },
      "execution_count": null,
      "outputs": [
        {
          "output_type": "stream",
          "name": "stdout",
          "text": [
            "    *\n",
            "   **\n",
            "  ***\n",
            " ****\n",
            "*****\n"
          ]
        }
      ]
    },
    {
      "cell_type": "code",
      "source": [
        "# Pattern 7\n",
        "row = 5\n",
        "\n",
        "for i in range(0,row):\n",
        "  No_spaces = i\n",
        "  print(\" \"*No_spaces,end=\"\")\n",
        "  for j in range(0,row-i):\n",
        "    print(\"*\",end=\"\")\n",
        "  print()\n"
      ],
      "metadata": {
        "colab": {
          "base_uri": "https://localhost:8080/"
        },
        "id": "5qhimMdnQtrO",
        "outputId": "77db966d-4905-45cd-f4f1-1d2dd738b6ae"
      },
      "execution_count": null,
      "outputs": [
        {
          "output_type": "stream",
          "name": "stdout",
          "text": [
            "*****\n",
            " ****\n",
            "  ***\n",
            "   **\n",
            "    *\n"
          ]
        }
      ]
    },
    {
      "cell_type": "code",
      "source": [
        "# Pattern 8\n",
        "row = 5\n",
        "for i in range(0,row):\n",
        "  No_spaces = row - i\n",
        "  print(\" \"*No_spaces,end=\"\")\n",
        "  for j in range(1,2*(i+1)):\n",
        "    print(\"*\",end=\"\")\n",
        "  print()\n"
      ],
      "metadata": {
        "colab": {
          "base_uri": "https://localhost:8080/"
        },
        "id": "DNC461flIKOv",
        "outputId": "fb7bcccd-d54c-4c27-a3af-8145d728ce2e"
      },
      "execution_count": null,
      "outputs": [
        {
          "output_type": "stream",
          "name": "stdout",
          "text": [
            "     *\n",
            "    ***\n",
            "   *****\n",
            "  *******\n",
            " *********\n"
          ]
        }
      ]
    },
    {
      "cell_type": "code",
      "source": [
        "# Pattern 9\n",
        "row = 5\n",
        "n = 2*row - 1\n",
        "for i in range(0,row):\n",
        "  No_spaces = i\n",
        "  print(\" \"*No_spaces, end = \"\")\n",
        "  print(\" \", end= \"\")\n",
        "  for j in range(0,n-2*i):\n",
        "    print(\"*\", end=\"\")\n",
        "  print()"
      ],
      "metadata": {
        "colab": {
          "base_uri": "https://localhost:8080/"
        },
        "id": "S24GHsFlK74b",
        "outputId": "b9a95f01-3077-4114-d2dd-ce5363e3fb6d"
      },
      "execution_count": null,
      "outputs": [
        {
          "output_type": "stream",
          "name": "stdout",
          "text": [
            " *********\n",
            "  *******\n",
            "   *****\n",
            "    ***\n",
            "     *\n"
          ]
        }
      ]
    },
    {
      "cell_type": "code",
      "source": [
        "# Pattern 10\n",
        "row = 5\n",
        "for i in range(1,row+1):\n",
        "  No_spaces = row - i\n",
        "  print(\" \"*No_spaces,end = \"\")\n",
        "  for j in range(0,i):\n",
        "    print(\"* \",end = \"\")\n",
        "  print()\n"
      ],
      "metadata": {
        "colab": {
          "base_uri": "https://localhost:8080/"
        },
        "id": "LCRuaIe3R25d",
        "outputId": "39619d21-fc0c-4fe1-9a61-7de73933ed46"
      },
      "execution_count": 5,
      "outputs": [
        {
          "output_type": "stream",
          "name": "stdout",
          "text": [
            "    * \n",
            "   * * \n",
            "  * * * \n",
            " * * * * \n",
            "* * * * * \n"
          ]
        }
      ]
    },
    {
      "cell_type": "code",
      "source": [
        "# Pattern 11\n",
        "row = 5\n",
        "for i in range(0,row):\n",
        "  No_spaces = i\n",
        "  print(\" \"*No_spaces,end = \"\")\n",
        "  for j in range(row-i,0,-1):\n",
        "    print(\"* \",end=\"\")\n",
        "  print()"
      ],
      "metadata": {
        "colab": {
          "base_uri": "https://localhost:8080/"
        },
        "id": "f1_eOG_ES2Bg",
        "outputId": "26449f90-878f-4191-b8ac-beaeca4d9c2a"
      },
      "execution_count": 8,
      "outputs": [
        {
          "output_type": "stream",
          "name": "stdout",
          "text": [
            "* * * * * \n",
            " * * * * \n",
            "  * * * \n",
            "   * * \n",
            "    * \n"
          ]
        }
      ]
    },
    {
      "cell_type": "code",
      "source": [],
      "metadata": {
        "id": "RiLE8Zj2WVYp"
      },
      "execution_count": null,
      "outputs": []
    }
  ]
}